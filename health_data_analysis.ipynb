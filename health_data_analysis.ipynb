{
 "cells": [
  {
   "cell_type": "markdown",
   "id": "ee7bf30a",
   "metadata": {},
   "source": [
    "# Adolescent Health Data Analysis\n",
    "This notebook analyzes adolescent health data with a focus on HIV education exposure and mental health outcomes."
   ]
  },
  {
   "cell_type": "code",
   "execution_count": null,
   "id": "44fa17e5",
   "metadata": {},
   "outputs": [],
   "source": [
    "# Import libraries\n",
    "import pandas as pd\n",
    "import matplotlib.pyplot as plt\n",
    "import seaborn as sns\n",
    "\n",
    "# Load the dataset\n",
    "df = pd.read_csv(\"adolescent_health_data.csv\")\n",
    "df.head()"
   ]
  },
  {
   "cell_type": "markdown",
   "id": "eb79b368",
   "metadata": {},
   "source": [
    "## Summary Statistics"
   ]
  },
  {
   "cell_type": "code",
   "execution_count": null,
   "id": "f1d92e24",
   "metadata": {},
   "outputs": [],
   "source": [
    "# Display summary statistics\n",
    "df.describe(include='all')"
   ]
  },
  {
   "cell_type": "markdown",
   "id": "3b016924",
   "metadata": {},
   "source": [
    "## HIV Education Exposure by Gender"
   ]
  },
  {
   "cell_type": "code",
   "execution_count": null,
   "id": "2b5ce393",
   "metadata": {},
   "outputs": [],
   "source": [
    "# Countplot\n",
    "sns.countplot(x='Gender', hue='Received_HIV_Education', data=df)\n",
    "plt.title('HIV Education Exposure by Gender')\n",
    "plt.show()"
   ]
  },
  {
   "cell_type": "markdown",
   "id": "e7896058",
   "metadata": {},
   "source": [
    "## Mental Health Score by Age"
   ]
  },
  {
   "cell_type": "code",
   "execution_count": null,
   "id": "d96f088f",
   "metadata": {},
   "outputs": [],
   "source": [
    "# Boxplot\n",
    "sns.boxplot(x='Age', y='Mental_Health_Score', data=df)\n",
    "plt.title('Mental Health Score by Age')\n",
    "plt.show()"
   ]
  },
  {
   "cell_type": "markdown",
   "id": "b324fbbb",
   "metadata": {},
   "source": [
    "## Insights\n",
    "- Most females received HIV education compared to males.\n",
    "- Mental health scores show variance by age group, with age 16 and 18 showing higher scores.\n",
    "\n",
    "This project demonstrates basic data analysis and visualization using Python in a public health context."
   ]
  }
 ],
 "metadata": {},
 "nbformat": 4,
 "nbformat_minor": 5
}
